{
 "cells": [
  {
   "cell_type": "markdown",
   "id": "7385a7ed",
   "metadata": {},
   "source": [
    "# Examples"
   ]
  },
  {
   "cell_type": "code",
   "execution_count": 1,
   "id": "fd93aa91",
   "metadata": {},
   "outputs": [],
   "source": [
    "from betterVotingEstimators import VotingClassifier,VotingRegressor"
   ]
  },
  {
   "cell_type": "markdown",
   "id": "f8bce762",
   "metadata": {},
   "source": [
    "## Classification"
   ]
  },
  {
   "cell_type": "code",
   "execution_count": 2,
   "id": "d4348350",
   "metadata": {},
   "outputs": [],
   "source": [
    "import numpy as np\n",
    "from sklearn.linear_model import LogisticRegression\n",
    "from sklearn.naive_bayes import GaussianNB\n",
    "from sklearn.ensemble import RandomForestClassifier\n",
    "from sklearn.ensemble import VotingClassifier as OriginalVotingClassifier"
   ]
  },
  {
   "cell_type": "code",
   "execution_count": 3,
   "id": "75ac82d5",
   "metadata": {},
   "outputs": [],
   "source": [
    "voting='soft'"
   ]
  },
  {
   "cell_type": "code",
   "execution_count": 16,
   "id": "e466025a",
   "metadata": {},
   "outputs": [
    {
     "name": "stdout",
     "output_type": "stream",
     "text": [
      "['A' 'A' 'A' 'B' 'B' 'B']\n"
     ]
    }
   ],
   "source": [
    "# Vanilla classifier\n",
    "clf1 = LogisticRegression(multi_class='multinomial', random_state=1)\n",
    "clf2 = RandomForestClassifier(n_estimators=50, random_state=1)\n",
    "clf3 = GaussianNB()\n",
    "X = np.array([[-1, -1], [-2, -1], [-3, -2], [1, 1], [2, 1], [3, 2]])\n",
    "y = np.array(['A','A','A','B','B','B'])\n",
    "eclf1 = OriginalVotingClassifier(estimators=[('lr', clf1), ('rf', clf2), ('gnb', clf3)], voting=voting)\n",
    "eclf1 = eclf1.fit(X, y)\n",
    "\n",
    "vanilla_preds=eclf1.predict(X)\n",
    "print(vanilla_preds)"
   ]
  },
  {
   "cell_type": "code",
   "execution_count": 17,
   "id": "02440c95",
   "metadata": {
    "scrolled": false
   },
   "outputs": [
    {
     "name": "stdout",
     "output_type": "stream",
     "text": [
      "['A' 'A' 'A' 'B' 'B' 'B']\n"
     ]
    }
   ],
   "source": [
    "# Modified VotingClassifier with all unfitted estimators - sanity check on weights\n",
    "clf1 = LogisticRegression(multi_class='multinomial', random_state=1)\n",
    "clf2 = RandomForestClassifier(n_estimators=50, random_state=1)\n",
    "clf3 = GaussianNB()\n",
    "X = np.array([[-1, -1], [-2, -1], [-3, -2], [1, 1], [2, 1], [3, 2]])\n",
    "y = np.array(['A','A','A','B','B','B'])\n",
    "\n",
    "eclf1 = VotingClassifier(unfitted_estimators=[('lr', clf1), ('rf', clf2), ('gnb', clf3)],\n",
    "                                 weights=[1/3,1/3,1/3],\n",
    "                                 voting=voting)\n",
    "eclf1 = eclf1.fit(X, y)\n",
    "\n",
    "mod_preds=eclf1.predict(X)\n",
    "print(mod_preds)\n",
    "\n",
    "assert all(vanilla_preds==mod_preds)"
   ]
  },
  {
   "cell_type": "code",
   "execution_count": null,
   "id": "eaab4e2e",
   "metadata": {},
   "outputs": [],
   "source": [
    "# Modified VotingClassifier with all unfitted estimators\n",
    "clf1 = LogisticRegression(multi_class='multinomial', random_state=1)\n",
    "clf2 = RandomForestClassifier(n_estimators=50, random_state=1)\n",
    "clf3 = GaussianNB()\n",
    "X = np.array([[-1, -1], [-2, -1], [-3, -2], [1, 1], [2, 1], [3, 2]])\n",
    "y = np.array(['A','A','A','B','B','B'])\n",
    "\n",
    "eclf1 = VotingClassifier(unfitted_estimators=[('lr', clf1), ('rf', clf2), ('gnb', clf3)],\n",
    "                                 weights=[0.05,0.05,0.9],\n",
    "                                 voting=voting)\n",
    "eclf1 = eclf1.fit(X, y)\n",
    "\n",
    "mod_preds=eclf1.predict(X)\n",
    "print(mod_preds)\n",
    "\n",
    "assert all(vanilla_preds==mod_preds)"
   ]
  },
  {
   "cell_type": "code",
   "execution_count": 6,
   "id": "7b830dfc",
   "metadata": {
    "scrolled": true
   },
   "outputs": [
    {
     "name": "stdout",
     "output_type": "stream",
     "text": [
      "['A' 'A' 'A' 'B' 'B' 'B']\n"
     ]
    }
   ],
   "source": [
    "# Modified VotingClassifier with all fitted estimators with same data\n",
    "clf1 = LogisticRegression(multi_class='multinomial', random_state=1)\n",
    "clf2 = RandomForestClassifier(n_estimators=50, random_state=1)\n",
    "clf3 = GaussianNB()\n",
    "X = np.array([[-1, -1], [-2, -1], [-3, -2], [1, 1], [2, 1], [3, 2]])\n",
    "y = np.array(['A','A','A','B','B','B'])\n",
    "\n",
    "# Fit the estimators\n",
    "for est in [clf1,clf2,clf3]:\n",
    "    est.fit(X,y)\n",
    "\n",
    "eclf1 = VotingClassifier(fitted_estimators=[('lr', clf1), ('rf', clf2), ('gnb', clf3)], voting=voting)\n",
    "eclf1 = eclf1.fit()\n",
    "\n",
    "mod_preds=eclf1.predict(X)\n",
    "print(mod_preds)\n",
    "\n",
    "assert all(vanilla_preds==mod_preds)"
   ]
  },
  {
   "cell_type": "code",
   "execution_count": 7,
   "id": "e43f4a52",
   "metadata": {},
   "outputs": [
    {
     "name": "stdout",
     "output_type": "stream",
     "text": [
      "['A' 'A' 'A' 'B' 'B' 'B']\n"
     ]
    }
   ],
   "source": [
    "# Modified VotingClassifier with mixed fitted and unfitted estimators\n",
    "clf1 = LogisticRegression(multi_class='multinomial', random_state=1)\n",
    "clf2 = RandomForestClassifier(n_estimators=50, random_state=1)\n",
    "clf3 = GaussianNB()\n",
    "X = np.array([[-1, -1], [-2, -1], [-3, -2], [1, 1], [2, 1], [3, 2]])\n",
    "y = np.array(['A','A','A','B','B','B'])\n",
    "\n",
    "# Fit the estimators\n",
    "for est in [clf1,clf2]:\n",
    "    est.fit(X,y)\n",
    "\n",
    "eclf1 = VotingClassifier(fitted_estimators=[('lr', clf1), ('rf', clf2)],unfitted_estimators=[('gnb', clf3)], voting=voting)\n",
    "eclf1 = eclf1.fit(X,y)\n",
    "\n",
    "mod_preds=eclf1.predict(X)\n",
    "print(mod_preds)\n",
    "\n",
    "assert all(vanilla_preds==mod_preds)"
   ]
  },
  {
   "cell_type": "code",
   "execution_count": 8,
   "id": "d5a560b6",
   "metadata": {},
   "outputs": [
    {
     "name": "stdout",
     "output_type": "stream",
     "text": [
      "['A' 'A' 'A' 'C' 'B' 'Z']\n"
     ]
    }
   ],
   "source": [
    "# Modified VotingClassifier with all fitted estimators with different data\n",
    "clf1 = LogisticRegression(multi_class='multinomial', random_state=1)\n",
    "clf2 = RandomForestClassifier(n_estimators=50, random_state=1)\n",
    "clf3 = GaussianNB()\n",
    "X = np.array([[-1, -1], [-2, -1], [-3, -2], [1, 1], [2, 1], [3, 2]])\n",
    "y1 = np.array(['A','A','A','B','B','B'])\n",
    "y2 = np.array(['B','A','C','C','B','Z'])\n",
    "y3 = np.array(['D','E','A','C','B','Z'])\n",
    "\n",
    "# Fit the estimators\n",
    "for est,y in zip([clf1,clf2,clf3],[y1,y2,y3]):\n",
    "    est.fit(X,y)\n",
    "\n",
    "eclf1 = VotingClassifier(fitted_estimators=[('lr', clf1), ('rf', clf2), ('gnb', clf3)], voting=voting)\n",
    "eclf1 = eclf1.fit()\n",
    "\n",
    "mod_preds=eclf1.predict(X)\n",
    "print(mod_preds)"
   ]
  },
  {
   "cell_type": "code",
   "execution_count": 9,
   "id": "cca20356",
   "metadata": {
    "scrolled": true
   },
   "outputs": [
    {
     "name": "stdout",
     "output_type": "stream",
     "text": [
      "['A' 'A' 'A' 'C' 'B' 'Z']\n"
     ]
    }
   ],
   "source": [
    "# Modified VotingClassifier with mix of fitted and unfitted estimators with different data\n",
    "\n",
    "# Define our three classifiers\n",
    "clf1 = LogisticRegression(multi_class='multinomial', random_state=1)\n",
    "clf2 = RandomForestClassifier(n_estimators=50, random_state=1)\n",
    "clf3 = GaussianNB()\n",
    "# They all train on the same X\n",
    "X = np.array([[-1, -1], [-2, -1], [-3, -2], [1, 1], [2, 1], [3, 2]])\n",
    "\n",
    "# But on different ys\n",
    "y1 = np.array(['A','A','A','B','B','B'])\n",
    "y2 = np.array(['B','A','C','C','B','Z'])\n",
    "y3 = np.array(['D','E','A','C','B','Z'])\n",
    "\n",
    "# We fit two estimators\n",
    "for est,y in zip([clf1,clf2],[y1,y2]):\n",
    "    est.fit(X,y)\n",
    "\n",
    "# Instantiate our ModifiedVotingClassifier\n",
    "eclf1 = VotingClassifier(\n",
    "    fitted_estimators=[('lr', clf1), ('rf', clf2)],\n",
    "    unfitted_estimators=[('gnb', clf3)],\n",
    "    voting='hard'\n",
    ")\n",
    "# Call fit - which will fit the unfitted_estimators with X and y3\n",
    "eclf1 = eclf1.fit(X, y3)\n",
    "\n",
    "# Make our predictions\n",
    "mod_preds=eclf1.predict(X)\n",
    "print(mod_preds)"
   ]
  },
  {
   "cell_type": "markdown",
   "id": "50b2b4e4",
   "metadata": {},
   "source": [
    "## Regression"
   ]
  },
  {
   "cell_type": "code",
   "execution_count": 10,
   "id": "a27ee59d",
   "metadata": {},
   "outputs": [],
   "source": [
    "from sklearn.linear_model import LinearRegression\n",
    "from sklearn.ensemble import RandomForestRegressor\n",
    "from sklearn.ensemble import VotingRegressor as OriginalVotingRegressor\n",
    "from sklearn.neighbors import KNeighborsRegressor"
   ]
  },
  {
   "cell_type": "code",
   "execution_count": 11,
   "id": "fa794df7",
   "metadata": {},
   "outputs": [],
   "source": [
    "# Vanilla VotingRegressor\n",
    "r1 = LinearRegression()\n",
    "r2 = RandomForestRegressor(n_estimators=10, random_state=1)\n",
    "r3 = KNeighborsRegressor()\n",
    "X = np.array([[1, 1], [2, 4], [3, 9], [4, 16], [5, 25], [6, 36]])\n",
    "y = np.array([2, 6, 12, 20, 30, 42])\n",
    "er = OriginalVotingRegressor([('lr', r1), ('rf', r2), ('r3', r3)])\n",
    "\n",
    "vanilla_preds=er.fit(X, y).predict(X)"
   ]
  },
  {
   "cell_type": "code",
   "execution_count": 12,
   "id": "6e22c536",
   "metadata": {},
   "outputs": [],
   "source": [
    "# Modified VotingClassifier with all unfitted estimators\n",
    "r1 = LinearRegression()\n",
    "r2 = RandomForestRegressor(n_estimators=10, random_state=1)\n",
    "r3 = KNeighborsRegressor()\n",
    "X = np.array([[1, 1], [2, 4], [3, 9], [4, 16], [5, 25], [6, 36]])\n",
    "y = np.array([2, 6, 12, 20, 30, 42])\n",
    "er = VotingRegressor([('lr', r1), ('rf', r2), ('r3', r3)])\n",
    "\n",
    "mod_preds=er.fit(X, y).predict(X)\n",
    "\n",
    "assert all(vanilla_preds==mod_preds)"
   ]
  },
  {
   "cell_type": "code",
   "execution_count": 13,
   "id": "91c621e9",
   "metadata": {},
   "outputs": [],
   "source": [
    "# Modified VotingClassifier with all fitted estimators\n",
    "r1 = LinearRegression()\n",
    "r2 = RandomForestRegressor(n_estimators=10, random_state=1)\n",
    "r3 = KNeighborsRegressor()\n",
    "X = np.array([[1, 1], [2, 4], [3, 9], [4, 16], [5, 25], [6, 36]])\n",
    "y = np.array([2, 6, 12, 20, 30, 42])\n",
    "\n",
    "for est in [r1,r2,r3]:\n",
    "    est.fit(X,y)\n",
    "\n",
    "er = VotingRegressor(fitted_estimators=[('lr', r1), ('rf', r2), ('r3', r3)])\n",
    "\n",
    "mod_preds=er.fit().predict(X)\n",
    "\n",
    "assert all(vanilla_preds==mod_preds)"
   ]
  },
  {
   "cell_type": "code",
   "execution_count": 14,
   "id": "ef8a54a0",
   "metadata": {},
   "outputs": [],
   "source": [
    "# Modified VotingClassifier with mix of unfitted and fitted estimators\n",
    "r1 = LinearRegression()\n",
    "r2 = RandomForestRegressor(n_estimators=10, random_state=1)\n",
    "r3 = KNeighborsRegressor()\n",
    "X = np.array([[1, 1], [2, 4], [3, 9], [4, 16], [5, 25], [6, 36]])\n",
    "y = np.array([2, 6, 12, 20, 30, 42])\n",
    "\n",
    "for est in [r1,r2]:\n",
    "    est.fit(X,y)\n",
    "\n",
    "er = VotingRegressor(fitted_estimators=[('lr', r1), ('rf', r2)],unfitted_estimators=[('r3', r3)],n_jobs=-1)\n",
    "\n",
    "mod_preds=er.fit(X,y).predict(X)\n",
    "\n",
    "assert all(vanilla_preds==mod_preds)"
   ]
  },
  {
   "cell_type": "code",
   "execution_count": null,
   "id": "06759dfc",
   "metadata": {},
   "outputs": [],
   "source": []
  }
 ],
 "metadata": {
  "kernelspec": {
   "display_name": "Python 3 (ipykernel)",
   "language": "python",
   "name": "python3"
  },
  "language_info": {
   "codemirror_mode": {
    "name": "ipython",
    "version": 3
   },
   "file_extension": ".py",
   "mimetype": "text/x-python",
   "name": "python",
   "nbconvert_exporter": "python",
   "pygments_lexer": "ipython3",
   "version": "3.9.6"
  }
 },
 "nbformat": 4,
 "nbformat_minor": 5
}
